{
 "cells": [
  {
   "cell_type": "code",
   "execution_count": 1,
   "id": "19cb4340-2842-4b1b-8bb6-ba0dd3cb9b44",
   "metadata": {},
   "outputs": [
    {
     "name": "stderr",
     "output_type": "stream",
     "text": [
      "2025-03-09 17:34:02.924346: I tensorflow/tsl/cuda/cudart_stub.cc:28] Could not find cuda drivers on your machine, GPU will not be used.\n",
      "2025-03-09 17:34:02.985309: I tensorflow/tsl/cuda/cudart_stub.cc:28] Could not find cuda drivers on your machine, GPU will not be used.\n",
      "2025-03-09 17:34:04.034269: W tensorflow/compiler/tf2tensorrt/utils/py_utils.cc:38] TF-TRT Warning: Could not find TensorRT\n"
     ]
    }
   ],
   "source": [
    "import pandas as pd\n",
    "import numpy as np\n",
    "import tensorflow as tf "
   ]
  },
  {
   "cell_type": "code",
   "execution_count": 2,
   "id": "855060de-a05b-4c6c-85ea-cb4c81c6ee8f",
   "metadata": {},
   "outputs": [
    {
     "name": "stdout",
     "output_type": "stream",
     "text": [
      "   Toxicity                                              tweet\n",
      "0         0   @user when a father is dysfunctional and is s...\n"
     ]
    }
   ],
   "source": [
    "###Data Prep \n",
    "##1.curl -L -o ~/Workspace/dp/A.I./ML/DL/tf/Models/toxic-tweets-dataset.zip  https://www.kaggle.com/api/v1/datasets/download/ashwiniyer176/toxic-tweets-dataset\n",
    "##2.unzip toxic-tweets-dataset.zip && ls *.csv\n",
    "\n",
    "data_df = pd.read_csv(\"FinalBalancedDataset.csv\")\n",
    "data_df = data_df.drop(columns=[\"Unnamed: 0\"])\n",
    "print(data_df.head(1))\n"
   ]
  },
  {
   "cell_type": "code",
   "execution_count": 3,
   "id": "bce8cff2-9e38-4450-8216-811da8b86657",
   "metadata": {
    "jupyter": {
     "source_hidden": true
    }
   },
   "outputs": [
    {
     "data": {
      "text/plain": [
       "Toxicity\n",
       "0    32592\n",
       "1    24153\n",
       "Name: count, dtype: int64"
      ]
     },
     "execution_count": 3,
     "metadata": {},
     "output_type": "execute_result"
    }
   ],
   "source": [
    "data_df[\"Toxicity\"].value_counts()"
   ]
  },
  {
   "cell_type": "code",
   "execution_count": 4,
   "id": "f751e895-fd4d-446c-af49-106ed3ad20dc",
   "metadata": {},
   "outputs": [],
   "source": [
    "for _ in range(10):\n",
    "    shuffle_data = np.random.randint(len(data_df))\n",
    "    random_sample = data_df.iloc[shuffle_data]\n",
    "    #print(random_sample[\"Toxicity\"], random_sample[\"tweet\"])"
   ]
  },
  {
   "cell_type": "code",
   "execution_count": 5,
   "id": "54fcce2e-c653-4613-b02c-99f7f941f904",
   "metadata": {},
   "outputs": [],
   "source": [
    "#PRE-PROCESSING\n",
    "#TextToVector "
   ]
  },
  {
   "cell_type": "code",
   "execution_count": 6,
   "id": "f1871d37-e2e0-4257-b246-1463588439dd",
   "metadata": {
    "scrolled": true
   },
   "outputs": [
    {
     "name": "stderr",
     "output_type": "stream",
     "text": [
      "/home/lab/miniconda3/envs/cancer/lib/python3.8/site-packages/tqdm/auto.py:21: TqdmWarning: IProgress not found. Please update jupyter and ipywidgets. See https://ipywidgets.readthedocs.io/en/stable/user_install.html\n",
      "  from .autonotebook import tqdm as notebook_tqdm\n"
     ]
    },
    {
     "name": "stdout",
     "output_type": "stream",
     "text": [
      "(56745,)\n",
      "(56745,)\n"
     ]
    }
   ],
   "source": [
    "from transformers import BertTokenizer\n",
    "tag = data_df[\"Toxicity\"]\n",
    "tag = np.array(tag)\n",
    "tweet = data_df[\"tweet\"]\n",
    "tweet = np.array(tweet)\n",
    "sentences = tweet.tolist()\n",
    "tokenizer = BertTokenizer.from_pretrained(\"bert-base-cased\")\n",
    "tokenized_output = tokenizer(sentences, padding=True, truncation=True, return_tensors=\"pt\")\n",
    "print(tag.shape)\n",
    "print(tweet.shape)\n",
    "#print(tokenized_output)"
   ]
  },
  {
   "cell_type": "code",
   "execution_count": 7,
   "id": "a7acd01f-48a7-496f-bea0-28c4443c2728",
   "metadata": {},
   "outputs": [],
   "source": [
    "# Create dataset\n",
    "dataset = tf.data.Dataset.from_tensor_slices((tokenized_output, tag))\n",
    "\n",
    "# Apply transformations\n",
    "dataset = dataset.cache()\n",
    "dataset = dataset.shuffle(160000)\n",
    "dataset = dataset.batch(16)"
   ]
  },
  {
   "cell_type": "code",
   "execution_count": 10,
   "id": "089cfe02-a43f-47c7-a8f1-89f4cdeb7509",
   "metadata": {},
   "outputs": [],
   "source": [
    "#pipeline\n",
    "train = dataset.take(int(len(dataset)* .7))\n",
    "val = dataset.skip(int(len(dataset)*.7)).take(int(len(dataset)*.2))\n",
    "test = dataset.skip(int(len(dataset)*.9)).take(int(len(dataset)*.1))"
   ]
  },
  {
   "cell_type": "code",
   "execution_count": null,
   "id": "2250c478-7c3b-4d0b-84b4-78036ea882d5",
   "metadata": {},
   "outputs": [],
   "source": []
  }
 ],
 "metadata": {
  "kernelspec": {
   "display_name": "Python 3 (ipykernel)",
   "language": "python",
   "name": "python3"
  },
  "language_info": {
   "codemirror_mode": {
    "name": "ipython",
    "version": 3
   },
   "file_extension": ".py",
   "mimetype": "text/x-python",
   "name": "python",
   "nbconvert_exporter": "python",
   "pygments_lexer": "ipython3",
   "version": "3.8.20"
  }
 },
 "nbformat": 4,
 "nbformat_minor": 5
}
